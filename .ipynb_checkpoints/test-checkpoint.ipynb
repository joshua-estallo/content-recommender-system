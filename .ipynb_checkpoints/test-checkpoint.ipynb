{
 "cells": [
  {
   "cell_type": "code",
   "execution_count": 35,
   "id": "c1ed651e-96f2-4d50-b984-ea48ac1606bb",
   "metadata": {},
   "outputs": [],
   "source": [
    "import pandas as pd\n",
    "import numpy as np\n",
    "from sklearn.metrics.pairwise import cosine_similarity\n",
    "from sklearn.feature_extraction.text import TfidfVectorizer"
   ]
  },
  {
   "cell_type": "code",
   "execution_count": 29,
   "id": "4d7ccffa-443d-4004-8de2-f5e43024b466",
   "metadata": {},
   "outputs": [],
   "source": [
    "pd.set_option('display.max_colwidth', None)"
   ]
  },
  {
   "cell_type": "code",
   "execution_count": 30,
   "id": "e513fa41-3cd7-43d8-b5e9-c68ee63e6fff",
   "metadata": {},
   "outputs": [],
   "source": [
    "# Read all datasets \n",
    "datasets = pd.read_csv(\"datasets.csv\")"
   ]
  },
  {
   "cell_type": "code",
   "execution_count": 31,
   "id": "580f2703-0f9f-4c3e-a951-d1af864286f5",
   "metadata": {},
   "outputs": [
    {
     "data": {
      "text/html": [
       "<div>\n",
       "<style scoped>\n",
       "    .dataframe tbody tr th:only-of-type {\n",
       "        vertical-align: middle;\n",
       "    }\n",
       "\n",
       "    .dataframe tbody tr th {\n",
       "        vertical-align: top;\n",
       "    }\n",
       "\n",
       "    .dataframe thead th {\n",
       "        text-align: right;\n",
       "    }\n",
       "</style>\n",
       "<table border=\"1\" class=\"dataframe\">\n",
       "  <thead>\n",
       "    <tr style=\"text-align: right;\">\n",
       "      <th></th>\n",
       "      <th>Dataset Title</th>\n",
       "      <th>Overview</th>\n",
       "      <th>id</th>\n",
       "    </tr>\n",
       "  </thead>\n",
       "  <tbody>\n",
       "    <tr>\n",
       "      <th>0</th>\n",
       "      <td>Agricultural Crop Yield Analysis</td>\n",
       "      <td>A dataset containing historical crop yield data for various agricultural crops., agriculture, crop yield, agriculture data, agriculture statistics</td>\n",
       "      <td>1</td>\n",
       "    </tr>\n",
       "    <tr>\n",
       "      <th>1</th>\n",
       "      <td>Farm Equipment Usage Statistics</td>\n",
       "      <td>Data on the usage of farm equipment and machinery in agriculture., agriculture, farm equipment, machinery, agriculture statistics</td>\n",
       "      <td>2</td>\n",
       "    </tr>\n",
       "    <tr>\n",
       "      <th>2</th>\n",
       "      <td>Soil Quality Measurements</td>\n",
       "      <td>A collection of soil quality measurements and analysis results from agricultural fields., agriculture, soil quality, agriculture data, agriculture research</td>\n",
       "      <td>3</td>\n",
       "    </tr>\n",
       "    <tr>\n",
       "      <th>3</th>\n",
       "      <td>Irrigation Water Usage Trends</td>\n",
       "      <td>Data on the trends in irrigation water usage in agriculture over the years., agriculture, irrigation, water usage, agriculture statistics</td>\n",
       "      <td>4</td>\n",
       "    </tr>\n",
       "    <tr>\n",
       "      <th>4</th>\n",
       "      <td>Crop Pest and Disease Records</td>\n",
       "      <td>Records of pest and disease incidents in agricultural crops., agriculture, crop pests, diseases, agriculture data</td>\n",
       "      <td>5</td>\n",
       "    </tr>\n",
       "  </tbody>\n",
       "</table>\n",
       "</div>"
      ],
      "text/plain": [
       "                      Dataset Title   \n",
       "0  Agricultural Crop Yield Analysis  \\\n",
       "1   Farm Equipment Usage Statistics   \n",
       "2         Soil Quality Measurements   \n",
       "3     Irrigation Water Usage Trends   \n",
       "4     Crop Pest and Disease Records   \n",
       "\n",
       "                                                                                                                                                      Overview   \n",
       "0           A dataset containing historical crop yield data for various agricultural crops., agriculture, crop yield, agriculture data, agriculture statistics  \\\n",
       "1                            Data on the usage of farm equipment and machinery in agriculture., agriculture, farm equipment, machinery, agriculture statistics   \n",
       "2  A collection of soil quality measurements and analysis results from agricultural fields., agriculture, soil quality, agriculture data, agriculture research   \n",
       "3                    Data on the trends in irrigation water usage in agriculture over the years., agriculture, irrigation, water usage, agriculture statistics   \n",
       "4                                            Records of pest and disease incidents in agricultural crops., agriculture, crop pests, diseases, agriculture data   \n",
       "\n",
       "   id  \n",
       "0   1  \n",
       "1   2  \n",
       "2   3  \n",
       "3   4  \n",
       "4   5  "
      ]
     },
     "execution_count": 31,
     "metadata": {},
     "output_type": "execute_result"
    }
   ],
   "source": [
    "datasets.head()"
   ]
  },
  {
   "cell_type": "code",
   "execution_count": 32,
   "id": "cbf72c54-31ec-44cf-b96e-77b09367ad21",
   "metadata": {},
   "outputs": [],
   "source": [
    "#Filling NaNs with empty string\n",
    "datasets[\"Overview\"] = datasets[\"Overview\"].fillna('')"
   ]
  },
  {
   "cell_type": "code",
   "execution_count": 83,
   "id": "9fbd0c0c-58cb-4ab4-bd5c-1c0901786f1b",
   "metadata": {},
   "outputs": [],
   "source": [
    "# Create a TFIDFVectorizer Object\n",
    "tfv = TfidfVectorizer(min_df=3, max_features=None, strip_accents=\"unicode\", analyzer=\"word\", token_pattern=r\"\\w{1,}\", ngram_range=(1, 3), stop_words=\"english\")"
   ]
  },
  {
   "cell_type": "code",
   "execution_count": 84,
   "id": "4bfcdcdd-496a-4611-bb63-e7b82462e605",
   "metadata": {},
   "outputs": [],
   "source": [
    "# Fit the TfidfVectorizer on the \"overview\" text\n",
    "tfv_matrix = tfv.fit_transform(datasets[\"Overview\"])"
   ]
  },
  {
   "cell_type": "code",
   "execution_count": 87,
   "id": "e219d715-14f7-49d0-b4ce-1a5981a240fe",
   "metadata": {},
   "outputs": [
    {
     "data": {
      "text/plain": [
       "<40x33 sparse matrix of type '<class 'numpy.float64'>'\n",
       "\twith 210 stored elements in Compressed Sparse Row format>"
      ]
     },
     "execution_count": 87,
     "metadata": {},
     "output_type": "execute_result"
    }
   ],
   "source": [
    "tfv_matrix"
   ]
  },
  {
   "cell_type": "code",
   "execution_count": 85,
   "id": "c17e8d52-e36d-4b58-a6c3-ae2152349a8d",
   "metadata": {},
   "outputs": [],
   "source": [
    "# Calculate the cosine similarity between all dataset\n",
    "cos_sim = cosine_similarity(tfv_matrix, tfv_matrix)"
   ]
  },
  {
   "cell_type": "code",
   "execution_count": 86,
   "id": "4e8a8138-2289-4e05-9435-8de55f8795f4",
   "metadata": {},
   "outputs": [
    {
     "data": {
      "text/plain": [
       "array([0.02800006, 0.20016712, 0.01472482, 0.33171022, 0.0203072 ,\n",
       "       0.        , 0.02075624, 0.03328244, 0.        , 0.02553401,\n",
       "       0.03169988, 0.        , 0.01391844, 0.03290229, 0.02639258,\n",
       "       0.01758212, 0.        , 0.01182928, 0.02345602, 0.35919182,\n",
       "       0.4341347 , 0.49043308, 0.54287725, 0.31868186, 0.42479788,\n",
       "       0.22317823, 0.34351843, 0.52265197, 0.38113554, 0.44810864,\n",
       "       0.3382512 , 0.4510665 , 0.31249892, 0.35817201, 0.72368689,\n",
       "       0.37160245, 0.20529618, 0.27100939, 0.13365889, 1.        ])"
      ]
     },
     "execution_count": 86,
     "metadata": {},
     "output_type": "execute_result"
    }
   ],
   "source": [
    "cos_sim[39]"
   ]
  },
  {
   "cell_type": "code",
   "execution_count": 96,
   "id": "e2330938-d2ee-4833-8122-ec2579bbaeac",
   "metadata": {},
   "outputs": [],
   "source": [
    "# Create a reverse mapping of indices\n",
    "indices = pd.Series(datasets.index, index = datasets[\"Dataset Title\"]).drop_duplicates()"
   ]
  },
  {
   "cell_type": "code",
   "execution_count": 102,
   "id": "2e9e1b1b-a1e6-4150-a2cb-e8056122c8e7",
   "metadata": {},
   "outputs": [
    {
     "data": {
      "text/plain": [
       "Dataset Title\n",
       "Agricultural Crop Yield Analysis    0\n",
       "Farm Equipment Usage Statistics     1\n",
       "Soil Quality Measurements           2\n",
       "Irrigation Water Usage Trends       3\n",
       "Crop Pest and Disease Records       4\n",
       "dtype: int64"
      ]
     },
     "execution_count": 102,
     "metadata": {},
     "output_type": "execute_result"
    }
   ],
   "source": [
    "indices1.head()"
   ]
  },
  {
   "cell_type": "code",
   "execution_count": 88,
   "id": "24498504-bc18-4bab-b910-712f8ef8245c",
   "metadata": {},
   "outputs": [
    {
     "data": {
      "text/plain": [
       "19"
      ]
     },
     "execution_count": 88,
     "metadata": {},
     "output_type": "execute_result"
    }
   ],
   "source": [
    "indices[\"Technology Trends Analysis\"]"
   ]
  },
  {
   "cell_type": "code",
   "execution_count": 89,
   "id": "0931f9da-dd6e-4aa8-8d74-84a734ef54f5",
   "metadata": {},
   "outputs": [
    {
     "data": {
      "text/plain": [
       "array([0.16206983, 0.07131406, 0.12149777, 0.06166652, 0.0206611 ,\n",
       "       0.15076719, 0.02111797, 0.03386246, 0.10530433, 0.025979  ,\n",
       "       0.08369286, 0.13179012, 0.014161  , 0.03347569, 0.02685253,\n",
       "       0.01788852, 0.        , 0.05042702, 0.02386479, 1.        ,\n",
       "       0.16269137, 0.49897995, 0.3503026 , 0.60226098, 0.43220091,\n",
       "       0.38393567, 0.34950499, 0.37218836, 0.70137839, 0.45591792,\n",
       "       0.0177611 , 0.07109581, 0.01640888, 0.        , 0.25045639,\n",
       "       0.03819408, 0.        , 0.01423032, 0.07223632, 0.35919182])"
      ]
     },
     "execution_count": 89,
     "metadata": {},
     "output_type": "execute_result"
    }
   ],
   "source": [
    "cos_sim[19]"
   ]
  },
  {
   "cell_type": "code",
   "execution_count": 95,
   "id": "e32d48c8-d2ac-44d7-b3c0-6dc0e80c6d36",
   "metadata": {},
   "outputs": [
    {
     "data": {
      "text/plain": [
       "[(0, 0.1620698267863877),\n",
       " (1, 0.07131405517640607),\n",
       " (2, 0.12149776554622396),\n",
       " (3, 0.06166652268117996),\n",
       " (4, 0.020661098498155277),\n",
       " (5, 0.15076719344836415),\n",
       " (6, 0.02111796640647431),\n",
       " (7, 0.03386245782743031),\n",
       " (8, 0.10530432622822877),\n",
       " (9, 0.025979000707892615),\n",
       " (10, 0.08369286042114904),\n",
       " (11, 0.13179011816948807),\n",
       " (12, 0.014160997611208564),\n",
       " (13, 0.033475688453915915),\n",
       " (14, 0.02685253074309168),\n",
       " (15, 0.017888521961657602),\n",
       " (16, 0.0),\n",
       " (17, 0.05042702019089328),\n",
       " (18, 0.02386479070040818),\n",
       " (19, 1.0),\n",
       " (20, 0.16269137468329353),\n",
       " (21, 0.4989799468920756),\n",
       " (22, 0.35030259833118255),\n",
       " (23, 0.602260984188812),\n",
       " (24, 0.4322009112527446),\n",
       " (25, 0.38393567432982956),\n",
       " (26, 0.34950498978947414),\n",
       " (27, 0.37218836241287784),\n",
       " (28, 0.701378387422296),\n",
       " (29, 0.4559179185848733),\n",
       " (30, 0.01776109543811648),\n",
       " (31, 0.07109581478947077),\n",
       " (32, 0.01640887923155652),\n",
       " (33, 0.0),\n",
       " (34, 0.25045638903940726),\n",
       " (35, 0.038194075519841275),\n",
       " (36, 0.0),\n",
       " (37, 0.014230322569203716),\n",
       " (38, 0.07223632482851024),\n",
       " (39, 0.3591918152736984)]"
      ]
     },
     "execution_count": 95,
     "metadata": {},
     "output_type": "execute_result"
    }
   ],
   "source": [
    "list(enumerate(cos_sim[indices[\"Technology Trends Analysis\"]]))"
   ]
  },
  {
   "cell_type": "code",
   "execution_count": 93,
   "id": "f5a91ff4-e3d6-456a-879f-51ffab1c9ee7",
   "metadata": {},
   "outputs": [
    {
     "data": {
      "text/plain": [
       "[(19, 1.0),\n",
       " (28, 0.701378387422296),\n",
       " (23, 0.602260984188812),\n",
       " (21, 0.4989799468920756),\n",
       " (29, 0.4559179185848733),\n",
       " (24, 0.4322009112527446),\n",
       " (25, 0.38393567432982956),\n",
       " (27, 0.37218836241287784),\n",
       " (39, 0.3591918152736984),\n",
       " (22, 0.35030259833118255),\n",
       " (26, 0.34950498978947414),\n",
       " (34, 0.25045638903940726),\n",
       " (20, 0.16269137468329353),\n",
       " (0, 0.1620698267863877),\n",
       " (5, 0.15076719344836415),\n",
       " (11, 0.13179011816948807),\n",
       " (2, 0.12149776554622396),\n",
       " (8, 0.10530432622822877),\n",
       " (10, 0.08369286042114904),\n",
       " (38, 0.07223632482851024),\n",
       " (1, 0.07131405517640607),\n",
       " (31, 0.07109581478947077),\n",
       " (3, 0.06166652268117996),\n",
       " (17, 0.05042702019089328),\n",
       " (35, 0.038194075519841275),\n",
       " (7, 0.03386245782743031),\n",
       " (13, 0.033475688453915915),\n",
       " (14, 0.02685253074309168),\n",
       " (9, 0.025979000707892615),\n",
       " (18, 0.02386479070040818),\n",
       " (6, 0.02111796640647431),\n",
       " (4, 0.020661098498155277),\n",
       " (15, 0.017888521961657602),\n",
       " (30, 0.01776109543811648),\n",
       " (32, 0.01640887923155652),\n",
       " (37, 0.014230322569203716),\n",
       " (12, 0.014160997611208564),\n",
       " (16, 0.0),\n",
       " (33, 0.0),\n",
       " (36, 0.0)]"
      ]
     },
     "execution_count": 93,
     "metadata": {},
     "output_type": "execute_result"
    }
   ],
   "source": [
    "sorted(list(enumerate(cos_sim[indices[\"Technology Trends Analysis\"]])), key=lambda x: x[1], reverse=True)"
   ]
  },
  {
   "cell_type": "code",
   "execution_count": null,
   "id": "7c5a61bb-8953-4f5c-8b0c-2f3d5990f72a",
   "metadata": {},
   "outputs": [],
   "source": []
  }
 ],
 "metadata": {
  "kernelspec": {
   "display_name": "Python 3 (ipykernel)",
   "language": "python",
   "name": "python3"
  },
  "language_info": {
   "codemirror_mode": {
    "name": "ipython",
    "version": 3
   },
   "file_extension": ".py",
   "mimetype": "text/x-python",
   "name": "python",
   "nbconvert_exporter": "python",
   "pygments_lexer": "ipython3",
   "version": "3.11.3"
  }
 },
 "nbformat": 4,
 "nbformat_minor": 5
}
